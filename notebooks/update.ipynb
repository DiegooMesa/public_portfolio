{
 "cells": [
  {
   "cell_type": "code",
   "execution_count": 82,
   "id": "290943f6",
   "metadata": {},
   "outputs": [],
   "source": [
    "import os"
   ]
  },
  {
   "cell_type": "code",
   "execution_count": 83,
   "id": "b8753024",
   "metadata": {},
   "outputs": [],
   "source": [
    "def get_file_names(directory):\n",
    "    files = []\n",
    "    for root, dirnames, filenames in os.walk(directory):\n",
    "        for filename in filenames:\n",
    "            if filename.endswith(\".html\"):\n",
    "                if filename not in blacklist:\n",
    "                    files.append(filename)\n",
    "    print(\"Files in \" + directory + \" : \" + str(files))\n",
    "    return files"
   ]
  },
  {
   "cell_type": "code",
   "execution_count": 88,
   "id": "e52a2635",
   "metadata": {},
   "outputs": [],
   "source": [
    "def file_mod (directory, files, boilerplate):\n",
    "    for file in files:\n",
    "        #Open file to be modified in order to get current code\n",
    "        old_file = open(directory + file, \"r\")\n",
    "        old_file_read = old_file.read()\n",
    "        old_file.close()\n",
    "        \n",
    "        #Replace boilerplate with new one\n",
    "        new_file = open(directory + file, \"w\")\n",
    "        new_file.write(boilerplate + old_file_read.split(\"<!--Boilerplate-->\")[1])\n",
    "        new_file.close()\n",
    "        \n",
    "        print(\"File: \" + file + \" modified.\")\n",
    "        "
   ]
  },
  {
   "cell_type": "code",
   "execution_count": 94,
   "id": "191679aa",
   "metadata": {},
   "outputs": [
    {
     "name": "stdout",
     "output_type": "stream",
     "text": [
      "Files in ./main/ : ['articles.html', 'about.html', 'contact.html', 'portfolio.html']\n",
      "Files in ./projects/ : ['bicimad.html']\n",
      "File: articles.html modified.\n",
      "File: about.html modified.\n",
      "File: contact.html modified.\n",
      "File: portfolio.html modified.\n",
      "File: bicimad.html modified.\n"
     ]
    }
   ],
   "source": [
    "#Define blacklist\n",
    "blacklist = [\"index.html\", \"boilerplate.html\"]\n",
    "\n",
    "#Get main files and article files\n",
    "main_files = get_file_names(\"./main/\")\n",
    "articles_projects = get_file_names(\"./projects/\")\n",
    "\n",
    "#Get boilerplate\n",
    "boilerplate = open(\"boilerplate.html\")\n",
    "boilerplate = boilerplate.read()\n",
    "\n",
    "file_mod(\"./main/\", main_files, boilerplate)\n",
    "file_mod(\"./projects/\", articles_projects, boilerplate)"
   ]
  },
  {
   "cell_type": "code",
   "execution_count": null,
   "id": "8e785456",
   "metadata": {},
   "outputs": [],
   "source": []
  }
 ],
 "metadata": {
  "kernelspec": {
   "display_name": "Python 3 (ipykernel)",
   "language": "python",
   "name": "python3"
  },
  "language_info": {
   "codemirror_mode": {
    "name": "ipython",
    "version": 3
   },
   "file_extension": ".py",
   "mimetype": "text/x-python",
   "name": "python",
   "nbconvert_exporter": "python",
   "pygments_lexer": "ipython3",
   "version": "3.10.11"
  }
 },
 "nbformat": 4,
 "nbformat_minor": 5
}
